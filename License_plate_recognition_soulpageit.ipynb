{
  "cells": [
    {
      "cell_type": "code",
      "execution_count": null,
      "metadata": {
        "colab": {
          "base_uri": "https://localhost:8080/"
        },
        "id": "QnVK703ufI77",
        "outputId": "3928576f-ad7a-4b6b-9093-c53e66965e0d"
      },
      "outputs": [],
      "source": [
        "!pip install transformers datasets torch torchvision pandas opencv-python matplotlib\n"
      ]
    },
    {
      "cell_type": "code",
      "execution_count": null,
      "metadata": {
        "colab": {
          "base_uri": "https://localhost:8080/"
        },
        "id": "n6-MX3Gi6zxA",
        "outputId": "74f21a3f-2335-44db-90c1-feb49008e577"
      },
      "outputs": [],
      "source": [
        "! pip install flash_attn timm einops\n"
      ]
    },
    {
      "cell_type": "code",
      "execution_count": null,
      "metadata": {
        "colab": {
          "base_uri": "https://localhost:8080/"
        },
        "id": "1iH4F21M3JTm",
        "outputId": "4eb63820-64f6-4999-f7ef-0ec812e12510"
      },
      "outputs": [],
      "source": [
        "! pip install pytesseract"
      ]
    },
    {
      "cell_type": "code",
      "execution_count": null,
      "metadata": {
        "colab": {
          "base_uri": "https://localhost:8080/"
        },
        "id": "ESERsT9p4M_f",
        "outputId": "27722f78-c0d1-4134-96f5-73494b5c9591"
      },
      "outputs": [],
      "source": [
        "!sudo apt-get install tesseract-ocr -y\n",
        "!sudo apt-get install tesseract-ocr-ara  # Install Arabic language pack\n"
      ]
    },
    {
      "cell_type": "code",
      "execution_count": null,
      "metadata": {
        "id": "2Hmw2-hacUYJ"
      },
      "outputs": [],
      "source": [
        "import pandas as pd\n",
        "import json\n",
        "from datasets import DatasetDict, load_dataset\n",
        "import matplotlib.pyplot as plt\n",
        "import matplotlib.patches as patches\n",
        "from transformers import  AutoModelForCausalLM, AutoTokenizer, AutoImageProcessor, AutoProcessor\n",
        "import torch\n",
        "import os\n",
        "from PIL import Image, ImageDraw, ImageFont\n",
        "import torch\n",
        "import numpy as np\n",
        "import pytesseract"
      ]
    },
    {
      "cell_type": "code",
      "execution_count": null,
      "metadata": {
        "colab": {
          "base_uri": "https://localhost:8080/"
        },
        "id": "fBiyC8IMgv-r",
        "outputId": "3cc2f070-c69a-4643-db1b-dae768c449c3"
      },
      "outputs": [],
      "source": [
        "\n",
        "\n",
        "\n",
        "# Load detection annotations CSV into DataFrame\n",
        "detection_annotations_df = pd.read_csv('/content/Licplatesdetection_train.csv')\n",
        "\n",
        "# Load recognition annotations CSV into DataFrame\n",
        "recognition_annotations_df = pd.read_csv('/content/Licplatesrecognition_train.csv')\n",
        "\n",
        "\n",
        "print(detection_annotations_df.head())\n",
        "print(recognition_annotations_df.head())"
      ]
    },
    {
      "cell_type": "code",
      "execution_count": null,
      "metadata": {
        "id": "r8TynuFHnFZY"
      },
      "outputs": [],
      "source": [
        "\n",
        "def convert_to_coco_format(df, category_id):\n",
        "    images = []\n",
        "    annotations = []\n",
        "    for idx, row in df.iterrows():\n",
        "        image_id = row['img_id']\n",
        "        if image_id not in [img['id'] for img in images]:\n",
        "            images.append({\n",
        "                \"id\": image_id,\n",
        "                \"file_name\": f\"/content/Licplatesdetection_train/{image_id}\",\n",
        "                \"height\": 1024,\n",
        "                \"width\": 1024,\n",
        "            })\n",
        "        annotations.append({\n",
        "            \"id\": idx,\n",
        "            \"image_id\": image_id,\n",
        "            \"category_id\": category_id,\n",
        "            \"bbox\": [row['xmin'], row['ymin'], row['xmax'] - row['xmin'], row['ymax'] - row['ymin']],\n",
        "            \"area\": (row['xmax'] - row['xmin']) * (row['ymax'] - row['ymin']),\n",
        "            \"iscrowd\": 0,\n",
        "        })\n",
        "    return images, annotations\n",
        "\n",
        "# Assuming category_id for detection is 1\n",
        "detection_images, detection_annotations = convert_to_coco_format(detection_annotations_df, category_id=1)\n",
        "\n",
        "# Assuming category_id for recognition is 2\n",
        "recognition_images = []\n",
        "recognition_annotations = []\n",
        "for idx, row in recognition_annotations_df.iterrows():\n",
        "    image_id = row['img_id']\n",
        "    recognition_images.append({\n",
        "        \"id\": image_id,\n",
        "        \"file_name\": f\"/content/Licplatesrecognition_train/{image_id}\",\n",
        "        \"height\": 1024,\n",
        "        \"width\": 1024,\n",
        "    })\n",
        "    recognition_annotations.append({\n",
        "        \"image_id\": image_id,\n",
        "        \"plate_text\": row['text'],\n",
        "    })\n",
        "\n",
        "# Save to JSON files\n",
        "detection_coco_data = {\"images\": detection_images, \"annotations\": detection_annotations, \"categories\": [{\"id\": 1, \"name\": \"detection\"}]}\n",
        "with open('detection_annotations_coco.json', 'w') as f:\n",
        "    json.dump(detection_coco_data, f)\n",
        "\n",
        "recognition_coco_data = {\"images\": recognition_images, \"annotations\": recognition_annotations, \"categories\": [{\"id\": 2, \"name\": \"recognition\"}]}\n",
        "with open('recognition_annotations_coco.json', 'w') as f:\n",
        "    json.dump(recognition_coco_data, f)\n"
      ]
    },
    {
      "cell_type": "code",
      "execution_count": null,
      "metadata": {
        "id": "76Jm_RD7q-Bd"
      },
      "outputs": [],
      "source": [
        "\n",
        "# Load detection dataset from JSON file\n",
        "with open('detection_annotations_coco.json', 'r') as f:\n",
        "    detection_dataset = json.load(f)\n",
        "\n",
        "# Load recognition dataset from JSON file\n",
        "with open('recognition_annotations_coco.json', 'r') as f:\n",
        "    recognition_dataset = json.load(f)\n",
        "\n",
        "# Continue with your processing using detection_dataset and recognition_dataset\n"
      ]
    },
    {
      "cell_type": "code",
      "execution_count": null,
      "metadata": {
        "colab": {
          "base_uri": "https://localhost:8080/",
          "height": 81,
          "referenced_widgets": [
            "409d3703c5704e58a3003ec89f154972",
            "456f3a73dfc5453da727a72edbf5f07a",
            "8eb78cbb30444c938877790f471185ae",
            "7557f8ae9ff546ed917234099cb6af26",
            "e0c00269009f42afbf1c9b060c26d803",
            "7881e59d0a1b49c2ba28bc3708cf3dba",
            "9b4cebdf6f7d4d5eba416f6062c0bbd6",
            "1b61c56726f94800b379eed4e2384a49",
            "3079c5e76e3641ebb7819ba252c83807",
            "db2acd3279e64cfd82abe4ff26a929f1",
            "2fb00a3e6da2427cbfe17be4608fb925",
            "2f80babcff584010baa73063ae6b3476",
            "886943ee0954416793914794868ed7d9",
            "c2be7b73176346eeb0bae4c916fb4686",
            "723820114a5f4da2973847b1db69aa22",
            "eb03ed53349649ed8c06e86c879adcba",
            "a76ca9bc6d684e0e8d059e9672c97dde",
            "f4396a34404547e496f5d2bf89a2c452",
            "4e4b0642e07c42fe9427d0f3131f2834",
            "a8a2a43bcf15423794b54c62afe45b5d",
            "cd45d5931cc54cffae83ef9f29c877e1",
            "04389e581d9245d6b82a115c211edb24"
          ]
        },
        "id": "17kBAklNgv4w",
        "outputId": "0134ada0-471a-4f4f-f20a-338f6b621742"
      },
      "outputs": [],
      "source": [
        "\n",
        "\n",
        "# Load detection dataset\n",
        "detection_dataset = load_dataset('json', data_files={'train': '/content/detection_annotations_coco.json'}, field='annotations')\n",
        "\n",
        "# Load recognition dataset\n",
        "recognition_dataset = load_dataset('json', data_files={'train': '/content/recognition_annotations_coco.json'}, field='annotations')\n",
        "\n",
        "# Combine both datasets into a DatasetDict\n",
        "dataset_dict = DatasetDict({'detection': detection_dataset['train'], 'recognition': recognition_dataset['train']})\n"
      ]
    },
    {
      "cell_type": "markdown",
      "metadata": {
        "id": "HOTom_Q0xbc_"
      },
      "source": [
        "/content/Licplatesdetection_train"
      ]
    },
    {
      "cell_type": "code",
      "execution_count": null,
      "metadata": {
        "id": "ck42kmeoy6ig"
      },
      "outputs": [],
      "source": [
        "# Function to preprocess the recognition dataset\n",
        "def preprocess_recognition(image_path, processor):\n",
        "    # Load the image from file\n",
        "    image = Image.open(image_path)\n",
        "\n",
        "    # Ensure image is in RGB mode\n",
        "    if image.mode != \"RGB\":\n",
        "        image = image.convert(\"RGB\")\n",
        "\n",
        "    # Resize image to match expected input size\n",
        "    image = image.resize((1024, 1024))\n",
        "\n",
        "    # Convert image to torch.Tensor and normalize\n",
        "    image_tensor = torch.tensor(np.array(image)).permute(2, 0, 1).float() / 255.0\n",
        "\n",
        "    # Prepare inputs for AutoImageProcessor\n",
        "    encoded_inputs = processor(images=image_tensor, do_rescale=False, return_tensors=\"pt\")\n",
        "\n",
        "    return encoded_inputs\n",
        "\n",
        "\n",
        "\n"
      ]
    },
    {
      "cell_type": "code",
      "execution_count": null,
      "metadata": {
        "colab": {
          "base_uri": "https://localhost:8080/"
        },
        "collapsed": true,
        "id": "mY_SUrXKzmuI",
        "outputId": "fc267376-2c8b-47b9-df3a-ac543257c6a7"
      },
      "outputs": [],
      "source": [
        "# Load the model, tokenizer, and image processor\n",
        "model_name = \"microsoft/Florence-2-large\"\n",
        "processor = AutoImageProcessor.from_pretrained(model_name)\n",
        "model = AutoModelForCausalLM.from_pretrained(model_name, trust_remote_code=True).eval()\n",
        "processor = AutoProcessor.from_pretrained(model_name, trust_remote_code=True)\n",
        "\n",
        "# Move model to the GPU if available\n",
        "device = torch.device(\"cuda\" if torch.cuda.is_available() else \"cpu\")\n",
        "model.to(device)\n",
        "\n",
        "\n"
      ]
    },
    {
      "cell_type": "code",
      "execution_count": null,
      "metadata": {
        "id": "KimAMUkaBRZm"
      },
      "outputs": [],
      "source": [
        "\n",
        "def predict_license_plates(encoded_inputs):\n",
        "    # Ensure pixel values are on the correct device\n",
        "    pixel_values = encoded_inputs['pixel_values'].to(device)\n",
        "\n",
        "    # Forward pass through the model\n",
        "    with torch.no_grad():\n",
        "        outputs = model(pixel_values=pixel_values)\n",
        "\n",
        "    # Assuming the model's output logits are for token predictions, decode them\n",
        "    predicted_ids = torch.argmax(outputs.logits, dim=-1)\n",
        "    predicted_texts = processor.tokenizer.batch_decode(predicted_ids, skip_special_tokens=True)\n",
        "\n",
        "    return predicted_texts\n"
      ]
    },
    {
      "cell_type": "code",
      "execution_count": null,
      "metadata": {
        "id": "H1JL397i_Vag"
      },
      "outputs": [],
      "source": [
        "# Define the prediction function\n",
        "def run_example(image, task_prompt, model, processor, device):\n",
        "    inputs = processor(text=task_prompt, images=image, return_tensors=\"pt\")\n",
        "    inputs = {k: v.to(device) for k, v in inputs.items()}\n",
        "\n",
        "    generated_ids = model.generate(\n",
        "        input_ids=inputs[\"input_ids\"],\n",
        "        pixel_values=inputs[\"pixel_values\"],\n",
        "        max_new_tokens=1024,\n",
        "        early_stopping=False,\n",
        "        do_sample=False,\n",
        "        num_beams=3,\n",
        "    )\n",
        "\n",
        "    generated_text = processor.batch_decode(generated_ids, skip_special_tokens=False)[0]\n",
        "    parsed_answer = processor.post_process_generation(\n",
        "        generated_text,\n",
        "        task=task_prompt,\n",
        "        image_size=(image.width, image.height)\n",
        "    )\n",
        "\n",
        "    # Filter to include only license plates\n",
        "    if '<OD>' in parsed_answer:\n",
        "        od_results = parsed_answer['<OD>']\n",
        "        filtered_bboxes = []\n",
        "        filtered_labels = []\n",
        "        for bbox, label in zip(od_results['bboxes'], od_results['labels']):\n",
        "            if label.lower() == 'vehicle registration plate':\n",
        "                filtered_bboxes.append(bbox)\n",
        "                filtered_labels.append(label)\n",
        "        parsed_answer['<OD>'] = {'bboxes': filtered_bboxes, 'labels': filtered_labels}\n",
        "\n",
        "    return parsed_answer"
      ]
    },
    {
      "cell_type": "code",
      "execution_count": null,
      "metadata": {
        "id": "GF50j-FP_amq"
      },
      "outputs": [],
      "source": [
        "# Function to plot bounding boxes on an image\n",
        "def plot_bbox(image, data):\n",
        "    # Create a figure and axes\n",
        "    fig, ax = plt.subplots()\n",
        "\n",
        "    # Display the image\n",
        "    ax.imshow(image)\n",
        "\n",
        "    # Plot each bounding box\n",
        "    for bbox, label in zip(data['<OD>']['bboxes'], data['<OD>']['labels']):\n",
        "        # Unpack the bounding box coordinates\n",
        "        x1, y1, x2, y2 = bbox\n",
        "        # Create a Rectangle patch\n",
        "        rect = patches.Rectangle((x1, y1), x2-x1, y2-y1, linewidth=1, edgecolor='r', facecolor='none')\n",
        "        # Add the rectangle to the Axes\n",
        "        ax.add_patch(rect)\n",
        "        # Annotate the label\n",
        "        plt.text(x1, y1, label, color='white', fontsize=8, bbox=dict(facecolor='red', alpha=0.5))\n",
        "\n",
        "    # Remove the axis ticks and labels\n",
        "    ax.axis('off')\n",
        "\n",
        "    # Show the plot\n",
        "    plt.show()"
      ]
    },
    {
      "cell_type": "code",
      "execution_count": null,
      "metadata": {
        "id": "D1mU1dZL3AKD"
      },
      "outputs": [],
      "source": [
        "def extract_text_from_image(image, bbox):\n",
        "    x1, y1, x2, y2 = map(int, bbox)\n",
        "    cropped_image = image.crop((x1, y1, x2, y2))\n",
        "    text = pytesseract.image_to_string(cropped_image, config='--psm 13')\n",
        "    return text.strip()\n"
      ]
    },
    {
      "cell_type": "code",
      "execution_count": null,
      "metadata": {
        "id": "WgC1BmHGArYk"
      },
      "outputs": [],
      "source": [
        "def display_image_with_bboxes(image, bboxes, texts):\n",
        "    draw = ImageDraw.Draw(image)\n",
        "    font_path = \"/path/to/arabic/font.ttf\"  # Replace with the path to an Arabic font file\n",
        "\n",
        "    try:\n",
        "        font = ImageFont.truetype(font_path, size=14)  # Adjust size as needed\n",
        "    except IOError:\n",
        "        font = ImageFont.load_default()\n",
        "\n",
        "    for bbox, text in zip(bboxes, texts):\n",
        "        x1, y1, x2, y2 = map(int, bbox)\n",
        "        draw.rectangle([x1, y1, x2, y2], outline=\"red\", width=2)\n",
        "        try:\n",
        "            draw.text((x1, y1), text, fill=\"red\", font=font)\n",
        "        except UnicodeEncodeError as e:\n",
        "            print(f\"UnicodeEncodeError: {e} | Text: {text}\")\n",
        "\n",
        "    plt.imshow(image)\n",
        "    plt.axis('off')\n",
        "    plt.show()"
      ]
    },
    {
      "cell_type": "code",
      "execution_count": null,
      "metadata": {
        "id": "GKpZZ2B75BO0"
      },
      "outputs": [],
      "source": [
        "# Define the evaluation function\n",
        "def evaluate_model_on_test_data(model, processor, test_data_dir, task_prompt, device):\n",
        "    results = []\n",
        "    for file_name in os.listdir(test_data_dir):\n",
        "        if file_name.endswith(('.jpg', '.png')):\n",
        "            file_path = os.path.join(test_data_dir, file_name)\n",
        "            print(f\"Evaluating file: {file_path}\")\n",
        "            image = Image.open(file_path).convert(\"RGB\")\n",
        "            # Get predictions\n",
        "            result = run_example(image, task_prompt, model, processor, device)\n",
        "\n",
        "            # Debugging: print the raw result\n",
        "            print(f\"Parsed Answer: {result}\")\n",
        "            print(f\"Raw Result: {result}\")\n",
        "\n",
        "            # Extract text from license plates\n",
        "            license_plate_texts = []\n",
        "            for bbox in result['<OD>']['bboxes']:\n",
        "                text = extract_text_from_image(image, bbox)\n",
        "                license_plate_texts.append(text)\n",
        "\n",
        "            # Display the image with bounding boxes and detected text\n",
        "            display_image_with_bboxes(image, result['<OD>']['bboxes'], license_plate_texts)\n",
        "\n",
        "            results.append((file_name, result, license_plate_texts))\n",
        "\n",
        "    return results"
      ]
    },
    {
      "cell_type": "code",
      "execution_count": null,
      "metadata": {
        "id": "LjOlGHOS37mD"
      },
      "outputs": [],
      "source": [
        "\n",
        "# Example mapping of labels to columns\n",
        "class_to_index = {\n",
        "    \"class_0\": 0,\n",
        "    \"class_1\": 1,\n",
        "    \"class_2\": 2,\n",
        "    \"class_3\": 3,\n",
        "    \"class_4\": 4,\n",
        "    \"class_5\": 5,\n",
        "    \"class_6\": 6,\n",
        "    \"class_7\": 7,\n",
        "    \"class_8\": 8,\n",
        "    \"class_9\": 9,\n",
        "    \"vehicle registration plate\": 9  # Assuming \"vehicle registration plate\" is class_9\n",
        "}"
      ]
    },
    {
      "cell_type": "code",
      "execution_count": null,
      "metadata": {
        "colab": {
          "base_uri": "https://localhost:8080/",
          "height": 1000
        },
        "id": "dAsS5QsB3-0a",
        "outputId": "1484939d-6436-4aad-de41-e2ada3616829"
      },
      "outputs": [],
      "source": [
        "# Path to your test data\n",
        "test_data_dir = \"/content/test\"\n",
        "task_prompt = '<OD>'\n",
        "\n",
        "# Evaluate model on test data\n",
        "results = evaluate_model_on_test_data(model, processor, test_data_dir, task_prompt, device)\n",
        "\n",
        "# Create the submission DataFrame\n",
        "submission_df = pd.DataFrame(columns=[\"id\"] + list(range(10)) + [\"license_plate_text\"])\n",
        "submission_df.set_index(\"id\", inplace=True)"
      ]
    },
    {
      "cell_type": "code",
      "execution_count": null,
      "metadata": {
        "colab": {
          "base_uri": "https://localhost:8080/"
        },
        "id": "EK73kedZ4pQ4",
        "outputId": "58f4dc4c-71b7-42b7-a8a9-4e0df67316af"
      },
      "outputs": [],
      "source": [
        "# Process results and populate the DataFrame\n",
        "for img_id, result, texts in results:\n",
        "    row = np.zeros(10, dtype=int)\n",
        "    for label in result[\"<OD>\"][\"labels\"]:\n",
        "        if label in class_to_index:\n",
        "            row[class_to_index[label]] = 1\n",
        "    license_plate_text = \", \".join(texts) if texts else \"\"\n",
        "    submission_df.loc[img_id] = list(row) + [license_plate_text]\n",
        "\n",
        "# Reset index to include the 'id' column\n",
        "submission_df.reset_index(inplace=True)\n",
        "\n",
        "# Save the DataFrame to a CSV file\n",
        "submission_file_path = \"/content/submission.csv\"\n",
        "submission_df.to_csv(submission_file_path, index=False)\n",
        "\n",
        "print(f\"Submission file saved to {submission_file_path}\")"
      ]
    },
    {
      "cell_type": "code",
      "execution_count": null,
      "metadata": {
        "colab": {
          "base_uri": "https://localhost:8080/"
        },
        "id": "c1qO1kS0DlrD",
        "outputId": "d5bd2a19-13c1-41a6-9721-a912e8f58211"
      },
      "outputs": [],
      "source": [
        "def calculate_accuracy(model, processor, test_data_dir, task_prompt, device):\n",
        "    correct_predictions = 0\n",
        "    total_predictions = 0\n",
        "\n",
        "    for file_name in os.listdir(test_data_dir):\n",
        "        if file_name.endswith(('.jpg', '.png')):\n",
        "            file_path = os.path.join(test_data_dir, file_name)\n",
        "            print(f\"Evaluating file: {file_path}\")\n",
        "            image = Image.open(file_path).convert(\"RGB\")\n",
        "            # Get predictions\n",
        "            result = run_example(image, task_prompt, model, processor, device)\n",
        "\n",
        "            # Perform your accuracy evaluation logic here based on model predictions\n",
        "\n",
        "            # Dummy example: Assuming model predicts 'vehicle registration plate' correctly\n",
        "            if '<OD>' in result and any(label.lower() == 'vehicle registration plate' for label in result['<OD>']['labels']):\n",
        "                correct_predictions += 1\n",
        "            total_predictions += 1\n",
        "\n",
        "    if total_predictions > 0:\n",
        "        accuracy = correct_predictions / total_predictions\n",
        "        print(f\"Accuracy: {accuracy:.2%} ({correct_predictions}/{total_predictions} correct predictions)\")\n",
        "\n",
        "    return accuracy if total_predictions > 0 else None\n",
        "\n",
        "# Example usage:\n",
        "test_data_dir = \"/content/test/\"\n",
        "\n",
        "# Calculate accuracy\n",
        "accuracy = calculate_accuracy(model, processor, test_data_dir, task_prompt, device)\n",
        "\n",
        "# Print or use accuracy as needed\n",
        "if accuracy is not None:\n",
        "    print(f\"Overall Accuracy: {accuracy:.2%}\")\n",
        "else:\n",
        "    print(\"No predictions made or no test data found.\")\n"
      ]
    },
    {
      "cell_type": "code",
      "execution_count": null,
      "metadata": {
        "colab": {
          "base_uri": "https://localhost:8080/"
        },
        "id": "nH218TtGOQ9-",
        "outputId": "bbacca5f-da1d-4b28-cee1-1c242910f98c"
      },
      "outputs": [],
      "source": [
        "# Save model state_dict and configuration\n",
        "torch.save(model.state_dict(), '/content/models/model.pth')\n",
        "\n",
        "\n",
        "# Save processor\n",
        "processor.save_pretrained('/content/models/')\n"
      ]
    },
    {
      "cell_type": "code",
      "execution_count": null,
      "metadata": {
        "id": "hglELLpbgvt8"
      },
      "outputs": [],
      "source": []
    },
    {
      "cell_type": "code",
      "execution_count": null,
      "metadata": {
        "id": "aMAIt00qgvr7"
      },
      "outputs": [],
      "source": []
    },
    {
      "cell_type": "code",
      "execution_count": null,
      "metadata": {
        "id": "E1gqlN4TgvnJ"
      },
      "outputs": [],
      "source": []
    },
    {
      "cell_type": "code",
      "execution_count": null,
      "metadata": {
        "id": "9Rdozq68gvky"
      },
      "outputs": [],
      "source": []
    },
    {
      "cell_type": "code",
      "execution_count": null,
      "metadata": {
        "id": "wz57byjYgvgz"
      },
      "outputs": [],
      "source": []
    },
    {
      "cell_type": "code",
      "execution_count": null,
      "metadata": {
        "id": "dCQ6y8k4gvdE"
      },
      "outputs": [],
      "source": []
    },
    {
      "cell_type": "code",
      "execution_count": null,
      "metadata": {
        "id": "R_IvHeoIgvaL"
      },
      "outputs": [],
      "source": []
    },
    {
      "cell_type": "code",
      "execution_count": null,
      "metadata": {
        "id": "ZVUyHyOQgvWM"
      },
      "outputs": [],
      "source": []
    },
    {
      "cell_type": "code",
      "execution_count": null,
      "metadata": {
        "id": "hss76szFgvTV"
      },
      "outputs": [],
      "source": []
    },
    {
      "cell_type": "code",
      "execution_count": null,
      "metadata": {
        "id": "3Vu06VRagvPQ"
      },
      "outputs": [],
      "source": []
    },
    {
      "cell_type": "code",
      "execution_count": null,
      "metadata": {
        "id": "DbwBREbFgvMi"
      },
      "outputs": [],
      "source": []
    },
    {
      "cell_type": "code",
      "execution_count": null,
      "metadata": {
        "id": "vSybShmkgvJE"
      },
      "outputs": [],
      "source": []
    },
    {
      "cell_type": "code",
      "execution_count": null,
      "metadata": {
        "id": "7TjPfeTtitGL"
      },
      "outputs": [],
      "source": []
    },
    {
      "cell_type": "code",
      "execution_count": null,
      "metadata": {
        "id": "-WyUtvihitEA"
      },
      "outputs": [],
      "source": []
    },
    {
      "cell_type": "code",
      "execution_count": null,
      "metadata": {
        "id": "mNf3-QxYitBK"
      },
      "outputs": [],
      "source": []
    },
    {
      "cell_type": "code",
      "execution_count": null,
      "metadata": {
        "id": "pt7TQ57_is-v"
      },
      "outputs": [],
      "source": []
    },
    {
      "cell_type": "code",
      "execution_count": null,
      "metadata": {
        "id": "wxEm4p-Fis8K"
      },
      "outputs": [],
      "source": []
    },
    {
      "cell_type": "code",
      "execution_count": null,
      "metadata": {
        "id": "psAyK-I7is44"
      },
      "outputs": [],
      "source": []
    },
    {
      "cell_type": "code",
      "execution_count": null,
      "metadata": {
        "id": "LtvUDZGxis2i"
      },
      "outputs": [],
      "source": []
    },
    {
      "cell_type": "code",
      "execution_count": null,
      "metadata": {
        "id": "mBq64zf3is0H"
      },
      "outputs": [],
      "source": []
    },
    {
      "cell_type": "code",
      "execution_count": null,
      "metadata": {
        "id": "FsNZH_X8issl"
      },
      "outputs": [],
      "source": []
    },
    {
      "cell_type": "code",
      "execution_count": null,
      "metadata": {
        "id": "PGaru0QKispT"
      },
      "outputs": [],
      "source": []
    },
    {
      "cell_type": "code",
      "execution_count": null,
      "metadata": {
        "id": "YMGt3SeXisln"
      },
      "outputs": [],
      "source": []
    },
    {
      "cell_type": "code",
      "execution_count": null,
      "metadata": {
        "id": "a1EV6Tmgisjc"
      },
      "outputs": [],
      "source": []
    },
    {
      "cell_type": "code",
      "execution_count": null,
      "metadata": {
        "id": "JubUW0L7isdl"
      },
      "outputs": [],
      "source": []
    },
    {
      "cell_type": "code",
      "execution_count": null,
      "metadata": {
        "id": "IbBzQbxyisa7"
      },
      "outputs": [],
      "source": []
    },
    {
      "cell_type": "code",
      "execution_count": null,
      "metadata": {
        "id": "iZD1CnlaisYT"
      },
      "outputs": [],
      "source": []
    },
    {
      "cell_type": "code",
      "execution_count": null,
      "metadata": {
        "id": "0xU86WHzisUu"
      },
      "outputs": [],
      "source": []
    },
    {
      "cell_type": "code",
      "execution_count": null,
      "metadata": {
        "id": "hfyQMTykisSb"
      },
      "outputs": [],
      "source": []
    }
  ],
  "metadata": {
    "accelerator": "GPU",
    "colab": {
      "gpuType": "T4",
      "provenance": []
    },
    "kernelspec": {
      "display_name": "Python 3",
      "name": "python3"
    },
    "language_info": {
      "name": "python"
    },
    "widgets": {
      "application/vnd.jupyter.widget-state+json": {
        "04389e581d9245d6b82a115c211edb24": {
          "model_module": "@jupyter-widgets/controls",
          "model_module_version": "1.5.0",
          "model_name": "DescriptionStyleModel",
          "state": {
            "_model_module": "@jupyter-widgets/controls",
            "_model_module_version": "1.5.0",
            "_model_name": "DescriptionStyleModel",
            "_view_count": null,
            "_view_module": "@jupyter-widgets/base",
            "_view_module_version": "1.2.0",
            "_view_name": "StyleView",
            "description_width": ""
          }
        },
        "1b61c56726f94800b379eed4e2384a49": {
          "model_module": "@jupyter-widgets/base",
          "model_module_version": "1.2.0",
          "model_name": "LayoutModel",
          "state": {
            "_model_module": "@jupyter-widgets/base",
            "_model_module_version": "1.2.0",
            "_model_name": "LayoutModel",
            "_view_count": null,
            "_view_module": "@jupyter-widgets/base",
            "_view_module_version": "1.2.0",
            "_view_name": "LayoutView",
            "align_content": null,
            "align_items": null,
            "align_self": null,
            "border": null,
            "bottom": null,
            "display": null,
            "flex": null,
            "flex_flow": null,
            "grid_area": null,
            "grid_auto_columns": null,
            "grid_auto_flow": null,
            "grid_auto_rows": null,
            "grid_column": null,
            "grid_gap": null,
            "grid_row": null,
            "grid_template_areas": null,
            "grid_template_columns": null,
            "grid_template_rows": null,
            "height": null,
            "justify_content": null,
            "justify_items": null,
            "left": null,
            "margin": null,
            "max_height": null,
            "max_width": null,
            "min_height": null,
            "min_width": null,
            "object_fit": null,
            "object_position": null,
            "order": null,
            "overflow": null,
            "overflow_x": null,
            "overflow_y": null,
            "padding": null,
            "right": null,
            "top": null,
            "visibility": null,
            "width": "20px"
          }
        },
        "2f80babcff584010baa73063ae6b3476": {
          "model_module": "@jupyter-widgets/controls",
          "model_module_version": "1.5.0",
          "model_name": "HBoxModel",
          "state": {
            "_dom_classes": [],
            "_model_module": "@jupyter-widgets/controls",
            "_model_module_version": "1.5.0",
            "_model_name": "HBoxModel",
            "_view_count": null,
            "_view_module": "@jupyter-widgets/controls",
            "_view_module_version": "1.5.0",
            "_view_name": "HBoxView",
            "box_style": "",
            "children": [
              "IPY_MODEL_886943ee0954416793914794868ed7d9",
              "IPY_MODEL_c2be7b73176346eeb0bae4c916fb4686",
              "IPY_MODEL_723820114a5f4da2973847b1db69aa22"
            ],
            "layout": "IPY_MODEL_eb03ed53349649ed8c06e86c879adcba"
          }
        },
        "2fb00a3e6da2427cbfe17be4608fb925": {
          "model_module": "@jupyter-widgets/controls",
          "model_module_version": "1.5.0",
          "model_name": "DescriptionStyleModel",
          "state": {
            "_model_module": "@jupyter-widgets/controls",
            "_model_module_version": "1.5.0",
            "_model_name": "DescriptionStyleModel",
            "_view_count": null,
            "_view_module": "@jupyter-widgets/base",
            "_view_module_version": "1.2.0",
            "_view_name": "StyleView",
            "description_width": ""
          }
        },
        "3079c5e76e3641ebb7819ba252c83807": {
          "model_module": "@jupyter-widgets/controls",
          "model_module_version": "1.5.0",
          "model_name": "ProgressStyleModel",
          "state": {
            "_model_module": "@jupyter-widgets/controls",
            "_model_module_version": "1.5.0",
            "_model_name": "ProgressStyleModel",
            "_view_count": null,
            "_view_module": "@jupyter-widgets/base",
            "_view_module_version": "1.2.0",
            "_view_name": "StyleView",
            "bar_color": null,
            "description_width": ""
          }
        },
        "409d3703c5704e58a3003ec89f154972": {
          "model_module": "@jupyter-widgets/controls",
          "model_module_version": "1.5.0",
          "model_name": "HBoxModel",
          "state": {
            "_dom_classes": [],
            "_model_module": "@jupyter-widgets/controls",
            "_model_module_version": "1.5.0",
            "_model_name": "HBoxModel",
            "_view_count": null,
            "_view_module": "@jupyter-widgets/controls",
            "_view_module_version": "1.5.0",
            "_view_name": "HBoxView",
            "box_style": "",
            "children": [
              "IPY_MODEL_456f3a73dfc5453da727a72edbf5f07a",
              "IPY_MODEL_8eb78cbb30444c938877790f471185ae",
              "IPY_MODEL_7557f8ae9ff546ed917234099cb6af26"
            ],
            "layout": "IPY_MODEL_e0c00269009f42afbf1c9b060c26d803"
          }
        },
        "456f3a73dfc5453da727a72edbf5f07a": {
          "model_module": "@jupyter-widgets/controls",
          "model_module_version": "1.5.0",
          "model_name": "HTMLModel",
          "state": {
            "_dom_classes": [],
            "_model_module": "@jupyter-widgets/controls",
            "_model_module_version": "1.5.0",
            "_model_name": "HTMLModel",
            "_view_count": null,
            "_view_module": "@jupyter-widgets/controls",
            "_view_module_version": "1.5.0",
            "_view_name": "HTMLView",
            "description": "",
            "description_tooltip": null,
            "layout": "IPY_MODEL_7881e59d0a1b49c2ba28bc3708cf3dba",
            "placeholder": "​",
            "style": "IPY_MODEL_9b4cebdf6f7d4d5eba416f6062c0bbd6",
            "value": "Generating train split: "
          }
        },
        "4e4b0642e07c42fe9427d0f3131f2834": {
          "model_module": "@jupyter-widgets/base",
          "model_module_version": "1.2.0",
          "model_name": "LayoutModel",
          "state": {
            "_model_module": "@jupyter-widgets/base",
            "_model_module_version": "1.2.0",
            "_model_name": "LayoutModel",
            "_view_count": null,
            "_view_module": "@jupyter-widgets/base",
            "_view_module_version": "1.2.0",
            "_view_name": "LayoutView",
            "align_content": null,
            "align_items": null,
            "align_self": null,
            "border": null,
            "bottom": null,
            "display": null,
            "flex": null,
            "flex_flow": null,
            "grid_area": null,
            "grid_auto_columns": null,
            "grid_auto_flow": null,
            "grid_auto_rows": null,
            "grid_column": null,
            "grid_gap": null,
            "grid_row": null,
            "grid_template_areas": null,
            "grid_template_columns": null,
            "grid_template_rows": null,
            "height": null,
            "justify_content": null,
            "justify_items": null,
            "left": null,
            "margin": null,
            "max_height": null,
            "max_width": null,
            "min_height": null,
            "min_width": null,
            "object_fit": null,
            "object_position": null,
            "order": null,
            "overflow": null,
            "overflow_x": null,
            "overflow_y": null,
            "padding": null,
            "right": null,
            "top": null,
            "visibility": null,
            "width": "20px"
          }
        },
        "723820114a5f4da2973847b1db69aa22": {
          "model_module": "@jupyter-widgets/controls",
          "model_module_version": "1.5.0",
          "model_name": "HTMLModel",
          "state": {
            "_dom_classes": [],
            "_model_module": "@jupyter-widgets/controls",
            "_model_module_version": "1.5.0",
            "_model_name": "HTMLModel",
            "_view_count": null,
            "_view_module": "@jupyter-widgets/controls",
            "_view_module_version": "1.5.0",
            "_view_name": "HTMLView",
            "description": "",
            "description_tooltip": null,
            "layout": "IPY_MODEL_cd45d5931cc54cffae83ef9f29c877e1",
            "placeholder": "​",
            "style": "IPY_MODEL_04389e581d9245d6b82a115c211edb24",
            "value": " 900/0 [00:00&lt;00:00, 9833.04 examples/s]"
          }
        },
        "7557f8ae9ff546ed917234099cb6af26": {
          "model_module": "@jupyter-widgets/controls",
          "model_module_version": "1.5.0",
          "model_name": "HTMLModel",
          "state": {
            "_dom_classes": [],
            "_model_module": "@jupyter-widgets/controls",
            "_model_module_version": "1.5.0",
            "_model_name": "HTMLModel",
            "_view_count": null,
            "_view_module": "@jupyter-widgets/controls",
            "_view_module_version": "1.5.0",
            "_view_name": "HTMLView",
            "description": "",
            "description_tooltip": null,
            "layout": "IPY_MODEL_db2acd3279e64cfd82abe4ff26a929f1",
            "placeholder": "​",
            "style": "IPY_MODEL_2fb00a3e6da2427cbfe17be4608fb925",
            "value": " 900/0 [00:00&lt;00:00, 7972.78 examples/s]"
          }
        },
        "7881e59d0a1b49c2ba28bc3708cf3dba": {
          "model_module": "@jupyter-widgets/base",
          "model_module_version": "1.2.0",
          "model_name": "LayoutModel",
          "state": {
            "_model_module": "@jupyter-widgets/base",
            "_model_module_version": "1.2.0",
            "_model_name": "LayoutModel",
            "_view_count": null,
            "_view_module": "@jupyter-widgets/base",
            "_view_module_version": "1.2.0",
            "_view_name": "LayoutView",
            "align_content": null,
            "align_items": null,
            "align_self": null,
            "border": null,
            "bottom": null,
            "display": null,
            "flex": null,
            "flex_flow": null,
            "grid_area": null,
            "grid_auto_columns": null,
            "grid_auto_flow": null,
            "grid_auto_rows": null,
            "grid_column": null,
            "grid_gap": null,
            "grid_row": null,
            "grid_template_areas": null,
            "grid_template_columns": null,
            "grid_template_rows": null,
            "height": null,
            "justify_content": null,
            "justify_items": null,
            "left": null,
            "margin": null,
            "max_height": null,
            "max_width": null,
            "min_height": null,
            "min_width": null,
            "object_fit": null,
            "object_position": null,
            "order": null,
            "overflow": null,
            "overflow_x": null,
            "overflow_y": null,
            "padding": null,
            "right": null,
            "top": null,
            "visibility": null,
            "width": null
          }
        },
        "886943ee0954416793914794868ed7d9": {
          "model_module": "@jupyter-widgets/controls",
          "model_module_version": "1.5.0",
          "model_name": "HTMLModel",
          "state": {
            "_dom_classes": [],
            "_model_module": "@jupyter-widgets/controls",
            "_model_module_version": "1.5.0",
            "_model_name": "HTMLModel",
            "_view_count": null,
            "_view_module": "@jupyter-widgets/controls",
            "_view_module_version": "1.5.0",
            "_view_name": "HTMLView",
            "description": "",
            "description_tooltip": null,
            "layout": "IPY_MODEL_a76ca9bc6d684e0e8d059e9672c97dde",
            "placeholder": "​",
            "style": "IPY_MODEL_f4396a34404547e496f5d2bf89a2c452",
            "value": "Generating train split: "
          }
        },
        "8eb78cbb30444c938877790f471185ae": {
          "model_module": "@jupyter-widgets/controls",
          "model_module_version": "1.5.0",
          "model_name": "FloatProgressModel",
          "state": {
            "_dom_classes": [],
            "_model_module": "@jupyter-widgets/controls",
            "_model_module_version": "1.5.0",
            "_model_name": "FloatProgressModel",
            "_view_count": null,
            "_view_module": "@jupyter-widgets/controls",
            "_view_module_version": "1.5.0",
            "_view_name": "ProgressView",
            "bar_style": "success",
            "description": "",
            "description_tooltip": null,
            "layout": "IPY_MODEL_1b61c56726f94800b379eed4e2384a49",
            "max": 1,
            "min": 0,
            "orientation": "horizontal",
            "style": "IPY_MODEL_3079c5e76e3641ebb7819ba252c83807",
            "value": 1
          }
        },
        "9b4cebdf6f7d4d5eba416f6062c0bbd6": {
          "model_module": "@jupyter-widgets/controls",
          "model_module_version": "1.5.0",
          "model_name": "DescriptionStyleModel",
          "state": {
            "_model_module": "@jupyter-widgets/controls",
            "_model_module_version": "1.5.0",
            "_model_name": "DescriptionStyleModel",
            "_view_count": null,
            "_view_module": "@jupyter-widgets/base",
            "_view_module_version": "1.2.0",
            "_view_name": "StyleView",
            "description_width": ""
          }
        },
        "a76ca9bc6d684e0e8d059e9672c97dde": {
          "model_module": "@jupyter-widgets/base",
          "model_module_version": "1.2.0",
          "model_name": "LayoutModel",
          "state": {
            "_model_module": "@jupyter-widgets/base",
            "_model_module_version": "1.2.0",
            "_model_name": "LayoutModel",
            "_view_count": null,
            "_view_module": "@jupyter-widgets/base",
            "_view_module_version": "1.2.0",
            "_view_name": "LayoutView",
            "align_content": null,
            "align_items": null,
            "align_self": null,
            "border": null,
            "bottom": null,
            "display": null,
            "flex": null,
            "flex_flow": null,
            "grid_area": null,
            "grid_auto_columns": null,
            "grid_auto_flow": null,
            "grid_auto_rows": null,
            "grid_column": null,
            "grid_gap": null,
            "grid_row": null,
            "grid_template_areas": null,
            "grid_template_columns": null,
            "grid_template_rows": null,
            "height": null,
            "justify_content": null,
            "justify_items": null,
            "left": null,
            "margin": null,
            "max_height": null,
            "max_width": null,
            "min_height": null,
            "min_width": null,
            "object_fit": null,
            "object_position": null,
            "order": null,
            "overflow": null,
            "overflow_x": null,
            "overflow_y": null,
            "padding": null,
            "right": null,
            "top": null,
            "visibility": null,
            "width": null
          }
        },
        "a8a2a43bcf15423794b54c62afe45b5d": {
          "model_module": "@jupyter-widgets/controls",
          "model_module_version": "1.5.0",
          "model_name": "ProgressStyleModel",
          "state": {
            "_model_module": "@jupyter-widgets/controls",
            "_model_module_version": "1.5.0",
            "_model_name": "ProgressStyleModel",
            "_view_count": null,
            "_view_module": "@jupyter-widgets/base",
            "_view_module_version": "1.2.0",
            "_view_name": "StyleView",
            "bar_color": null,
            "description_width": ""
          }
        },
        "c2be7b73176346eeb0bae4c916fb4686": {
          "model_module": "@jupyter-widgets/controls",
          "model_module_version": "1.5.0",
          "model_name": "FloatProgressModel",
          "state": {
            "_dom_classes": [],
            "_model_module": "@jupyter-widgets/controls",
            "_model_module_version": "1.5.0",
            "_model_name": "FloatProgressModel",
            "_view_count": null,
            "_view_module": "@jupyter-widgets/controls",
            "_view_module_version": "1.5.0",
            "_view_name": "ProgressView",
            "bar_style": "success",
            "description": "",
            "description_tooltip": null,
            "layout": "IPY_MODEL_4e4b0642e07c42fe9427d0f3131f2834",
            "max": 1,
            "min": 0,
            "orientation": "horizontal",
            "style": "IPY_MODEL_a8a2a43bcf15423794b54c62afe45b5d",
            "value": 1
          }
        },
        "cd45d5931cc54cffae83ef9f29c877e1": {
          "model_module": "@jupyter-widgets/base",
          "model_module_version": "1.2.0",
          "model_name": "LayoutModel",
          "state": {
            "_model_module": "@jupyter-widgets/base",
            "_model_module_version": "1.2.0",
            "_model_name": "LayoutModel",
            "_view_count": null,
            "_view_module": "@jupyter-widgets/base",
            "_view_module_version": "1.2.0",
            "_view_name": "LayoutView",
            "align_content": null,
            "align_items": null,
            "align_self": null,
            "border": null,
            "bottom": null,
            "display": null,
            "flex": null,
            "flex_flow": null,
            "grid_area": null,
            "grid_auto_columns": null,
            "grid_auto_flow": null,
            "grid_auto_rows": null,
            "grid_column": null,
            "grid_gap": null,
            "grid_row": null,
            "grid_template_areas": null,
            "grid_template_columns": null,
            "grid_template_rows": null,
            "height": null,
            "justify_content": null,
            "justify_items": null,
            "left": null,
            "margin": null,
            "max_height": null,
            "max_width": null,
            "min_height": null,
            "min_width": null,
            "object_fit": null,
            "object_position": null,
            "order": null,
            "overflow": null,
            "overflow_x": null,
            "overflow_y": null,
            "padding": null,
            "right": null,
            "top": null,
            "visibility": null,
            "width": null
          }
        },
        "db2acd3279e64cfd82abe4ff26a929f1": {
          "model_module": "@jupyter-widgets/base",
          "model_module_version": "1.2.0",
          "model_name": "LayoutModel",
          "state": {
            "_model_module": "@jupyter-widgets/base",
            "_model_module_version": "1.2.0",
            "_model_name": "LayoutModel",
            "_view_count": null,
            "_view_module": "@jupyter-widgets/base",
            "_view_module_version": "1.2.0",
            "_view_name": "LayoutView",
            "align_content": null,
            "align_items": null,
            "align_self": null,
            "border": null,
            "bottom": null,
            "display": null,
            "flex": null,
            "flex_flow": null,
            "grid_area": null,
            "grid_auto_columns": null,
            "grid_auto_flow": null,
            "grid_auto_rows": null,
            "grid_column": null,
            "grid_gap": null,
            "grid_row": null,
            "grid_template_areas": null,
            "grid_template_columns": null,
            "grid_template_rows": null,
            "height": null,
            "justify_content": null,
            "justify_items": null,
            "left": null,
            "margin": null,
            "max_height": null,
            "max_width": null,
            "min_height": null,
            "min_width": null,
            "object_fit": null,
            "object_position": null,
            "order": null,
            "overflow": null,
            "overflow_x": null,
            "overflow_y": null,
            "padding": null,
            "right": null,
            "top": null,
            "visibility": null,
            "width": null
          }
        },
        "e0c00269009f42afbf1c9b060c26d803": {
          "model_module": "@jupyter-widgets/base",
          "model_module_version": "1.2.0",
          "model_name": "LayoutModel",
          "state": {
            "_model_module": "@jupyter-widgets/base",
            "_model_module_version": "1.2.0",
            "_model_name": "LayoutModel",
            "_view_count": null,
            "_view_module": "@jupyter-widgets/base",
            "_view_module_version": "1.2.0",
            "_view_name": "LayoutView",
            "align_content": null,
            "align_items": null,
            "align_self": null,
            "border": null,
            "bottom": null,
            "display": null,
            "flex": null,
            "flex_flow": null,
            "grid_area": null,
            "grid_auto_columns": null,
            "grid_auto_flow": null,
            "grid_auto_rows": null,
            "grid_column": null,
            "grid_gap": null,
            "grid_row": null,
            "grid_template_areas": null,
            "grid_template_columns": null,
            "grid_template_rows": null,
            "height": null,
            "justify_content": null,
            "justify_items": null,
            "left": null,
            "margin": null,
            "max_height": null,
            "max_width": null,
            "min_height": null,
            "min_width": null,
            "object_fit": null,
            "object_position": null,
            "order": null,
            "overflow": null,
            "overflow_x": null,
            "overflow_y": null,
            "padding": null,
            "right": null,
            "top": null,
            "visibility": null,
            "width": null
          }
        },
        "eb03ed53349649ed8c06e86c879adcba": {
          "model_module": "@jupyter-widgets/base",
          "model_module_version": "1.2.0",
          "model_name": "LayoutModel",
          "state": {
            "_model_module": "@jupyter-widgets/base",
            "_model_module_version": "1.2.0",
            "_model_name": "LayoutModel",
            "_view_count": null,
            "_view_module": "@jupyter-widgets/base",
            "_view_module_version": "1.2.0",
            "_view_name": "LayoutView",
            "align_content": null,
            "align_items": null,
            "align_self": null,
            "border": null,
            "bottom": null,
            "display": null,
            "flex": null,
            "flex_flow": null,
            "grid_area": null,
            "grid_auto_columns": null,
            "grid_auto_flow": null,
            "grid_auto_rows": null,
            "grid_column": null,
            "grid_gap": null,
            "grid_row": null,
            "grid_template_areas": null,
            "grid_template_columns": null,
            "grid_template_rows": null,
            "height": null,
            "justify_content": null,
            "justify_items": null,
            "left": null,
            "margin": null,
            "max_height": null,
            "max_width": null,
            "min_height": null,
            "min_width": null,
            "object_fit": null,
            "object_position": null,
            "order": null,
            "overflow": null,
            "overflow_x": null,
            "overflow_y": null,
            "padding": null,
            "right": null,
            "top": null,
            "visibility": null,
            "width": null
          }
        },
        "f4396a34404547e496f5d2bf89a2c452": {
          "model_module": "@jupyter-widgets/controls",
          "model_module_version": "1.5.0",
          "model_name": "DescriptionStyleModel",
          "state": {
            "_model_module": "@jupyter-widgets/controls",
            "_model_module_version": "1.5.0",
            "_model_name": "DescriptionStyleModel",
            "_view_count": null,
            "_view_module": "@jupyter-widgets/base",
            "_view_module_version": "1.2.0",
            "_view_name": "StyleView",
            "description_width": ""
          }
        }
      }
    }
  },
  "nbformat": 4,
  "nbformat_minor": 0
}
